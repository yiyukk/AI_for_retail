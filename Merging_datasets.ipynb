{
  "cells": [
    {
      "cell_type": "markdown",
      "metadata": {
        "id": "view-in-github",
        "colab_type": "text"
      },
      "source": [
        "<a href=\"https://colab.research.google.com/github/yiyukk/AI_for_retail/blob/main/Merging_datasets.ipynb\" target=\"_parent\"><img src=\"https://colab.research.google.com/assets/colab-badge.svg\" alt=\"Open In Colab\"/></a>"
      ]
    },
    {
      "cell_type": "code",
      "execution_count": null,
      "id": "9571f27f",
      "metadata": {
        "id": "9571f27f"
      },
      "outputs": [],
      "source": [
        "import pandas as pd\n",
        "import re\n",
        "import numpy as np\n",
        "from datetime import datetime, timedelta\n",
        "from google.colab import drive\n",
        "\n"
      ]
    },
    {
      "cell_type": "markdown",
      "id": "c4640b57",
      "metadata": {
        "id": "c4640b57"
      },
      "source": [
        "## Merging Datasets"
      ]
    },
    {
      "cell_type": "code",
      "execution_count": null,
      "id": "fe6a4715",
      "metadata": {
        "colab": {
          "base_uri": "https://localhost:8080/"
        },
        "id": "fe6a4715",
        "outputId": "b84fd43b-667a-40ed-fcdc-30d63eee21e7"
      },
      "outputs": [
        {
          "output_type": "stream",
          "name": "stdout",
          "text": [
            "Mounted at /content/drive\n"
          ]
        }
      ],
      "source": [
        "# Mount Google Drive\n",
        "drive.mount('/content/drive', force_remount=True)\n",
        "\n",
        "# Define the base path and data path\n",
        "base_path = '/content/drive/Shared drives/Deloitte'\n",
        "data_path = base_path + '/Cleaned Data'\n",
        "\n",
        "#Upload first dataset: customer_info_cleaned\n",
        "customer_info_cleaned = pd.read_csv(data_path + '/customer_info_cleaned.csv')\n",
        "customer_info_cleaned.head()\n",
        "\n",
        "output_dir = '/content/drive/Shared drives/Deloitte/Cleaned Data'\n",
        "\n"
      ]
    },
    {
      "cell_type": "code",
      "execution_count": null,
      "id": "3149bb96",
      "metadata": {
        "colab": {
          "base_uri": "https://localhost:8080/",
          "height": 206
        },
        "id": "3149bb96",
        "outputId": "ccf7d2f8-b3c9-44ee-84ef-a5b93ac0b520"
      },
      "outputs": [
        {
          "output_type": "execute_result",
          "data": {
            "text/plain": [
              "   rating  number_of_reviews   id  sales_amount  number_of_employees\n",
              "0   3.101               58.0  1.0  29759.508604                 33.0\n",
              "1   4.140               13.0  2.0  38363.039529                 29.0\n",
              "2   3.916               22.0  3.0  26352.777120                 36.0\n",
              "3   3.803               33.0  4.0  27910.264616                 26.0\n",
              "4   3.958               47.0  5.0  33478.441029                 31.0"
            ],
            "text/html": [
              "\n",
              "  <div id=\"df-dc4e76b3-94ba-4bb0-8408-17d123f960d8\" class=\"colab-df-container\">\n",
              "    <div>\n",
              "<style scoped>\n",
              "    .dataframe tbody tr th:only-of-type {\n",
              "        vertical-align: middle;\n",
              "    }\n",
              "\n",
              "    .dataframe tbody tr th {\n",
              "        vertical-align: top;\n",
              "    }\n",
              "\n",
              "    .dataframe thead th {\n",
              "        text-align: right;\n",
              "    }\n",
              "</style>\n",
              "<table border=\"1\" class=\"dataframe\">\n",
              "  <thead>\n",
              "    <tr style=\"text-align: right;\">\n",
              "      <th></th>\n",
              "      <th>rating</th>\n",
              "      <th>number_of_reviews</th>\n",
              "      <th>id</th>\n",
              "      <th>sales_amount</th>\n",
              "      <th>number_of_employees</th>\n",
              "    </tr>\n",
              "  </thead>\n",
              "  <tbody>\n",
              "    <tr>\n",
              "      <th>0</th>\n",
              "      <td>3.101</td>\n",
              "      <td>58.0</td>\n",
              "      <td>1.0</td>\n",
              "      <td>29759.508604</td>\n",
              "      <td>33.0</td>\n",
              "    </tr>\n",
              "    <tr>\n",
              "      <th>1</th>\n",
              "      <td>4.140</td>\n",
              "      <td>13.0</td>\n",
              "      <td>2.0</td>\n",
              "      <td>38363.039529</td>\n",
              "      <td>29.0</td>\n",
              "    </tr>\n",
              "    <tr>\n",
              "      <th>2</th>\n",
              "      <td>3.916</td>\n",
              "      <td>22.0</td>\n",
              "      <td>3.0</td>\n",
              "      <td>26352.777120</td>\n",
              "      <td>36.0</td>\n",
              "    </tr>\n",
              "    <tr>\n",
              "      <th>3</th>\n",
              "      <td>3.803</td>\n",
              "      <td>33.0</td>\n",
              "      <td>4.0</td>\n",
              "      <td>27910.264616</td>\n",
              "      <td>26.0</td>\n",
              "    </tr>\n",
              "    <tr>\n",
              "      <th>4</th>\n",
              "      <td>3.958</td>\n",
              "      <td>47.0</td>\n",
              "      <td>5.0</td>\n",
              "      <td>33478.441029</td>\n",
              "      <td>31.0</td>\n",
              "    </tr>\n",
              "  </tbody>\n",
              "</table>\n",
              "</div>\n",
              "    <div class=\"colab-df-buttons\">\n",
              "\n",
              "  <div class=\"colab-df-container\">\n",
              "    <button class=\"colab-df-convert\" onclick=\"convertToInteractive('df-dc4e76b3-94ba-4bb0-8408-17d123f960d8')\"\n",
              "            title=\"Convert this dataframe to an interactive table.\"\n",
              "            style=\"display:none;\">\n",
              "\n",
              "  <svg xmlns=\"http://www.w3.org/2000/svg\" height=\"24px\" viewBox=\"0 -960 960 960\">\n",
              "    <path d=\"M120-120v-720h720v720H120Zm60-500h600v-160H180v160Zm220 220h160v-160H400v160Zm0 220h160v-160H400v160ZM180-400h160v-160H180v160Zm440 0h160v-160H620v160ZM180-180h160v-160H180v160Zm440 0h160v-160H620v160Z\"/>\n",
              "  </svg>\n",
              "    </button>\n",
              "\n",
              "  <style>\n",
              "    .colab-df-container {\n",
              "      display:flex;\n",
              "      gap: 12px;\n",
              "    }\n",
              "\n",
              "    .colab-df-convert {\n",
              "      background-color: #E8F0FE;\n",
              "      border: none;\n",
              "      border-radius: 50%;\n",
              "      cursor: pointer;\n",
              "      display: none;\n",
              "      fill: #1967D2;\n",
              "      height: 32px;\n",
              "      padding: 0 0 0 0;\n",
              "      width: 32px;\n",
              "    }\n",
              "\n",
              "    .colab-df-convert:hover {\n",
              "      background-color: #E2EBFA;\n",
              "      box-shadow: 0px 1px 2px rgba(60, 64, 67, 0.3), 0px 1px 3px 1px rgba(60, 64, 67, 0.15);\n",
              "      fill: #174EA6;\n",
              "    }\n",
              "\n",
              "    .colab-df-buttons div {\n",
              "      margin-bottom: 4px;\n",
              "    }\n",
              "\n",
              "    [theme=dark] .colab-df-convert {\n",
              "      background-color: #3B4455;\n",
              "      fill: #D2E3FC;\n",
              "    }\n",
              "\n",
              "    [theme=dark] .colab-df-convert:hover {\n",
              "      background-color: #434B5C;\n",
              "      box-shadow: 0px 1px 3px 1px rgba(0, 0, 0, 0.15);\n",
              "      filter: drop-shadow(0px 1px 2px rgba(0, 0, 0, 0.3));\n",
              "      fill: #FFFFFF;\n",
              "    }\n",
              "  </style>\n",
              "\n",
              "    <script>\n",
              "      const buttonEl =\n",
              "        document.querySelector('#df-dc4e76b3-94ba-4bb0-8408-17d123f960d8 button.colab-df-convert');\n",
              "      buttonEl.style.display =\n",
              "        google.colab.kernel.accessAllowed ? 'block' : 'none';\n",
              "\n",
              "      async function convertToInteractive(key) {\n",
              "        const element = document.querySelector('#df-dc4e76b3-94ba-4bb0-8408-17d123f960d8');\n",
              "        const dataTable =\n",
              "          await google.colab.kernel.invokeFunction('convertToInteractive',\n",
              "                                                    [key], {});\n",
              "        if (!dataTable) return;\n",
              "\n",
              "        const docLinkHtml = 'Like what you see? Visit the ' +\n",
              "          '<a target=\"_blank\" href=https://colab.research.google.com/notebooks/data_table.ipynb>data table notebook</a>'\n",
              "          + ' to learn more about interactive tables.';\n",
              "        element.innerHTML = '';\n",
              "        dataTable['output_type'] = 'display_data';\n",
              "        await google.colab.output.renderOutput(dataTable, element);\n",
              "        const docLink = document.createElement('div');\n",
              "        docLink.innerHTML = docLinkHtml;\n",
              "        element.appendChild(docLink);\n",
              "      }\n",
              "    </script>\n",
              "  </div>\n",
              "\n",
              "\n",
              "<div id=\"df-42d2bfb9-c26d-450b-90c4-914254b39f7d\">\n",
              "  <button class=\"colab-df-quickchart\" onclick=\"quickchart('df-42d2bfb9-c26d-450b-90c4-914254b39f7d')\"\n",
              "            title=\"Suggest charts\"\n",
              "            style=\"display:none;\">\n",
              "\n",
              "<svg xmlns=\"http://www.w3.org/2000/svg\" height=\"24px\"viewBox=\"0 0 24 24\"\n",
              "     width=\"24px\">\n",
              "    <g>\n",
              "        <path d=\"M19 3H5c-1.1 0-2 .9-2 2v14c0 1.1.9 2 2 2h14c1.1 0 2-.9 2-2V5c0-1.1-.9-2-2-2zM9 17H7v-7h2v7zm4 0h-2V7h2v10zm4 0h-2v-4h2v4z\"/>\n",
              "    </g>\n",
              "</svg>\n",
              "  </button>\n",
              "\n",
              "<style>\n",
              "  .colab-df-quickchart {\n",
              "      --bg-color: #E8F0FE;\n",
              "      --fill-color: #1967D2;\n",
              "      --hover-bg-color: #E2EBFA;\n",
              "      --hover-fill-color: #174EA6;\n",
              "      --disabled-fill-color: #AAA;\n",
              "      --disabled-bg-color: #DDD;\n",
              "  }\n",
              "\n",
              "  [theme=dark] .colab-df-quickchart {\n",
              "      --bg-color: #3B4455;\n",
              "      --fill-color: #D2E3FC;\n",
              "      --hover-bg-color: #434B5C;\n",
              "      --hover-fill-color: #FFFFFF;\n",
              "      --disabled-bg-color: #3B4455;\n",
              "      --disabled-fill-color: #666;\n",
              "  }\n",
              "\n",
              "  .colab-df-quickchart {\n",
              "    background-color: var(--bg-color);\n",
              "    border: none;\n",
              "    border-radius: 50%;\n",
              "    cursor: pointer;\n",
              "    display: none;\n",
              "    fill: var(--fill-color);\n",
              "    height: 32px;\n",
              "    padding: 0;\n",
              "    width: 32px;\n",
              "  }\n",
              "\n",
              "  .colab-df-quickchart:hover {\n",
              "    background-color: var(--hover-bg-color);\n",
              "    box-shadow: 0 1px 2px rgba(60, 64, 67, 0.3), 0 1px 3px 1px rgba(60, 64, 67, 0.15);\n",
              "    fill: var(--button-hover-fill-color);\n",
              "  }\n",
              "\n",
              "  .colab-df-quickchart-complete:disabled,\n",
              "  .colab-df-quickchart-complete:disabled:hover {\n",
              "    background-color: var(--disabled-bg-color);\n",
              "    fill: var(--disabled-fill-color);\n",
              "    box-shadow: none;\n",
              "  }\n",
              "\n",
              "  .colab-df-spinner {\n",
              "    border: 2px solid var(--fill-color);\n",
              "    border-color: transparent;\n",
              "    border-bottom-color: var(--fill-color);\n",
              "    animation:\n",
              "      spin 1s steps(1) infinite;\n",
              "  }\n",
              "\n",
              "  @keyframes spin {\n",
              "    0% {\n",
              "      border-color: transparent;\n",
              "      border-bottom-color: var(--fill-color);\n",
              "      border-left-color: var(--fill-color);\n",
              "    }\n",
              "    20% {\n",
              "      border-color: transparent;\n",
              "      border-left-color: var(--fill-color);\n",
              "      border-top-color: var(--fill-color);\n",
              "    }\n",
              "    30% {\n",
              "      border-color: transparent;\n",
              "      border-left-color: var(--fill-color);\n",
              "      border-top-color: var(--fill-color);\n",
              "      border-right-color: var(--fill-color);\n",
              "    }\n",
              "    40% {\n",
              "      border-color: transparent;\n",
              "      border-right-color: var(--fill-color);\n",
              "      border-top-color: var(--fill-color);\n",
              "    }\n",
              "    60% {\n",
              "      border-color: transparent;\n",
              "      border-right-color: var(--fill-color);\n",
              "    }\n",
              "    80% {\n",
              "      border-color: transparent;\n",
              "      border-right-color: var(--fill-color);\n",
              "      border-bottom-color: var(--fill-color);\n",
              "    }\n",
              "    90% {\n",
              "      border-color: transparent;\n",
              "      border-bottom-color: var(--fill-color);\n",
              "    }\n",
              "  }\n",
              "</style>\n",
              "\n",
              "  <script>\n",
              "    async function quickchart(key) {\n",
              "      const quickchartButtonEl =\n",
              "        document.querySelector('#' + key + ' button');\n",
              "      quickchartButtonEl.disabled = true;  // To prevent multiple clicks.\n",
              "      quickchartButtonEl.classList.add('colab-df-spinner');\n",
              "      try {\n",
              "        const charts = await google.colab.kernel.invokeFunction(\n",
              "            'suggestCharts', [key], {});\n",
              "      } catch (error) {\n",
              "        console.error('Error during call to suggestCharts:', error);\n",
              "      }\n",
              "      quickchartButtonEl.classList.remove('colab-df-spinner');\n",
              "      quickchartButtonEl.classList.add('colab-df-quickchart-complete');\n",
              "    }\n",
              "    (() => {\n",
              "      let quickchartButtonEl =\n",
              "        document.querySelector('#df-42d2bfb9-c26d-450b-90c4-914254b39f7d button');\n",
              "      quickchartButtonEl.style.display =\n",
              "        google.colab.kernel.accessAllowed ? 'block' : 'none';\n",
              "    })();\n",
              "  </script>\n",
              "</div>\n",
              "\n",
              "    </div>\n",
              "  </div>\n"
            ],
            "application/vnd.google.colaboratory.intrinsic+json": {
              "type": "dataframe",
              "variable_name": "customer_economics_cleaned",
              "summary": "{\n  \"name\": \"customer_economics_cleaned\",\n  \"rows\": 9643,\n  \"fields\": [\n    {\n      \"column\": \"rating\",\n      \"properties\": {\n        \"dtype\": \"number\",\n        \"std\": 0.6635672988113597,\n        \"min\": 2.023,\n        \"max\": 5.0,\n        \"num_unique_values\": 2390,\n        \"samples\": [\n          4.941,\n          4.181,\n          4.02\n        ],\n        \"semantic_type\": \"\",\n        \"description\": \"\"\n      }\n    },\n    {\n      \"column\": \"number_of_reviews\",\n      \"properties\": {\n        \"dtype\": \"number\",\n        \"std\": 27.735259371659357,\n        \"min\": 0.0,\n        \"max\": 313.0,\n        \"num_unique_values\": 197,\n        \"samples\": [\n          123.0,\n          95.0,\n          20.0\n        ],\n        \"semantic_type\": \"\",\n        \"description\": \"\"\n      }\n    },\n    {\n      \"column\": \"id\",\n      \"properties\": {\n        \"dtype\": \"number\",\n        \"std\": 2886.284968906699,\n        \"min\": 0.0,\n        \"max\": 9999.0,\n        \"num_unique_values\": 9643,\n        \"samples\": [\n          7557.0,\n          1595.0,\n          6250.0\n        ],\n        \"semantic_type\": \"\",\n        \"description\": \"\"\n      }\n    },\n    {\n      \"column\": \"sales_amount\",\n      \"properties\": {\n        \"dtype\": \"number\",\n        \"std\": 306500245634.4775,\n        \"min\": 20612.2520300353,\n        \"max\": 30097949638565.0,\n        \"num_unique_values\": 9643,\n        \"samples\": [\n          33213.0674403458,\n          26870.4284957873,\n          32582.663089132\n        ],\n        \"semantic_type\": \"\",\n        \"description\": \"\"\n      }\n    },\n    {\n      \"column\": \"number_of_employees\",\n      \"properties\": {\n        \"dtype\": \"number\",\n        \"std\": 2.888978588528059,\n        \"min\": 0.0,\n        \"max\": 42.0,\n        \"num_unique_values\": 25,\n        \"samples\": [\n          35.0,\n          0.0,\n          33.0\n        ],\n        \"semantic_type\": \"\",\n        \"description\": \"\"\n      }\n    }\n  ]\n}"
            }
          },
          "metadata": {},
          "execution_count": 3
        }
      ],
      "source": [
        "#Upload second dataset: customer_economics_cleaned\n",
        "customer_economics_cleaned = pd.read_csv(data_path + '/customer_economics_cleaned.csv')\n",
        "customer_economics_cleaned.head()"
      ]
    },
    {
      "cell_type": "markdown",
      "id": "d3488316",
      "metadata": {
        "id": "d3488316"
      },
      "source": [
        "### JOIN customer_info_cleaned & customer_economics_cleaned"
      ]
    },
    {
      "cell_type": "code",
      "execution_count": null,
      "id": "9db1d86c",
      "metadata": {
        "id": "9db1d86c"
      },
      "outputs": [],
      "source": [
        "#To join the dataset we need to remove non-printable characters\n",
        "#We use an inner join on ID to only match ID's that occur in both datasets\n",
        "\n",
        "non_printable1 = \"info_eco_merged = pd.merge(customer_info_cleaned, customer_economics_cleaned, on='id', how='inner')\"\n",
        "\n",
        "cleaned_line1 = re.sub(r'[^\\x00-\\x7F]+', ' ', non_printable1)\n"
      ]
    },
    {
      "cell_type": "code",
      "execution_count": null,
      "id": "f6c89dc7",
      "metadata": {
        "id": "f6c89dc7"
      },
      "outputs": [],
      "source": [
        "info_eco_merged = pd.merge(customer_info_cleaned, customer_economics_cleaned, on='id', how='inner')"
      ]
    },
    {
      "cell_type": "code",
      "execution_count": null,
      "id": "c82674e6",
      "metadata": {
        "colab": {
          "base_uri": "https://localhost:8080/",
          "height": 444
        },
        "id": "c82674e6",
        "outputId": "1e104a0d-dee9-428a-c29b-2e2805bc8927"
      },
      "outputs": [
        {
          "output_type": "execute_result",
          "data": {
            "text/plain": [
              "       distance       city  store_size  free_wifi  parking   latitude  \\\n",
              "0     31.681670   A Coruña    122.1635       True    False  43.351256   \n",
              "1     29.656813     Bilbao     71.1614       True     True  43.255756   \n",
              "2     31.277988   Alicante     75.7135       True    False  38.354208   \n",
              "3     38.071841     Madrid    215.2493       True     True  40.463496   \n",
              "4     38.649910    Caceres    252.1306      False    False  39.472037   \n",
              "...         ...        ...         ...        ...      ...        ...   \n",
              "9629  35.362156     Madrid     45.0565      False     True  40.399515   \n",
              "9630  33.621825     Madrid    287.1539       True    False  40.398334   \n",
              "9631  35.763547     Bilbao    355.0638       True    False  43.243966   \n",
              "9632  25.767590  Barcelona    377.1740       True    False  41.416983   \n",
              "9633  36.160989   Alicante     34.7446       True     True  38.391301   \n",
              "\n",
              "      longitude date_opening      id  sales_representative_latitude  ...  \\\n",
              "0     -8.410301   2020-02-17     2.0                      43.362927  ...   \n",
              "1     -2.939133   2019-04-15     3.0                      43.262941  ...   \n",
              "2     -0.505718   2019-04-17     4.0                      38.300530  ...   \n",
              "3     -3.635538   2019-04-05     5.0                      40.453918  ...   \n",
              "4     -6.371697   2018-06-15     6.0                      39.474834  ...   \n",
              "...         ...          ...     ...                            ...  ...   \n",
              "9629  -3.696936   2018-09-01  9994.0                      40.403571  ...   \n",
              "9630  -3.697031   2018-10-06  9995.0                      40.403571  ...   \n",
              "9631  -2.896762   2018-12-06  9996.0                      43.245405  ...   \n",
              "9632   2.197787   2020-07-03  9997.0                      41.426438  ...   \n",
              "9633  -0.479109   2019-08-16  9999.0                      38.373219  ...   \n",
              "\n",
              "      sales_representative_id  store_size_category  opening_hour closing_hour  \\\n",
              "0                          22                    0         23:00        06:00   \n",
              "1                          10                    0         13:00        01:00   \n",
              "2                          15                    0         11:00        23:00   \n",
              "3                          29                    1         06:00        23:00   \n",
              "4                           8                    1         06:00        23:00   \n",
              "...                       ...                  ...           ...          ...   \n",
              "9629                       23                    0         13:00        01:00   \n",
              "9630                       23                    1         06:00        23:00   \n",
              "9631                        5                    2         00:00        00:00   \n",
              "9632                        3                    2         09:00        21:00   \n",
              "9633                       16                    0         11:00        23:00   \n",
              "\n",
              "     customer_category distance_rep_cust_km  rating  number_of_reviews  \\\n",
              "0              Bar/Pub                 1.45   4.140               13.0   \n",
              "1           Restaurant                 0.84   3.916               22.0   \n",
              "2           Restaurant                10.48   3.803               33.0   \n",
              "3                Hotel                 1.94   3.958               47.0   \n",
              "4                Hotel                 0.77   4.932               46.0   \n",
              "...                ...                  ...     ...                ...   \n",
              "9629        Restaurant                 0.45   4.966               60.0   \n",
              "9630             Hotel                 0.58   3.730               92.0   \n",
              "9631             Hotel                 1.10   4.485               37.0   \n",
              "9632             Hotel                 2.05   4.043               22.0   \n",
              "9633        Restaurant                 2.07   4.092               24.0   \n",
              "\n",
              "      sales_amount  number_of_employees  \n",
              "0     38363.039529                 29.0  \n",
              "1     26352.777120                 36.0  \n",
              "2     27910.264616                 26.0  \n",
              "3     33478.441029                 31.0  \n",
              "4     33487.927742                 29.0  \n",
              "...            ...                  ...  \n",
              "9629  30884.234842                  1.0  \n",
              "9630  35455.681692                 28.0  \n",
              "9631  32715.667729                 32.0  \n",
              "9632  31840.805761                 33.0  \n",
              "9633  27336.162153                 31.0  \n",
              "\n",
              "[9634 rows x 21 columns]"
            ],
            "text/html": [
              "\n",
              "  <div id=\"df-a4cd2495-5179-4e90-be21-7dc27dbf87c4\" class=\"colab-df-container\">\n",
              "    <div>\n",
              "<style scoped>\n",
              "    .dataframe tbody tr th:only-of-type {\n",
              "        vertical-align: middle;\n",
              "    }\n",
              "\n",
              "    .dataframe tbody tr th {\n",
              "        vertical-align: top;\n",
              "    }\n",
              "\n",
              "    .dataframe thead th {\n",
              "        text-align: right;\n",
              "    }\n",
              "</style>\n",
              "<table border=\"1\" class=\"dataframe\">\n",
              "  <thead>\n",
              "    <tr style=\"text-align: right;\">\n",
              "      <th></th>\n",
              "      <th>distance</th>\n",
              "      <th>city</th>\n",
              "      <th>store_size</th>\n",
              "      <th>free_wifi</th>\n",
              "      <th>parking</th>\n",
              "      <th>latitude</th>\n",
              "      <th>longitude</th>\n",
              "      <th>date_opening</th>\n",
              "      <th>id</th>\n",
              "      <th>sales_representative_latitude</th>\n",
              "      <th>...</th>\n",
              "      <th>sales_representative_id</th>\n",
              "      <th>store_size_category</th>\n",
              "      <th>opening_hour</th>\n",
              "      <th>closing_hour</th>\n",
              "      <th>customer_category</th>\n",
              "      <th>distance_rep_cust_km</th>\n",
              "      <th>rating</th>\n",
              "      <th>number_of_reviews</th>\n",
              "      <th>sales_amount</th>\n",
              "      <th>number_of_employees</th>\n",
              "    </tr>\n",
              "  </thead>\n",
              "  <tbody>\n",
              "    <tr>\n",
              "      <th>0</th>\n",
              "      <td>31.681670</td>\n",
              "      <td>A Coruña</td>\n",
              "      <td>122.1635</td>\n",
              "      <td>True</td>\n",
              "      <td>False</td>\n",
              "      <td>43.351256</td>\n",
              "      <td>-8.410301</td>\n",
              "      <td>2020-02-17</td>\n",
              "      <td>2.0</td>\n",
              "      <td>43.362927</td>\n",
              "      <td>...</td>\n",
              "      <td>22</td>\n",
              "      <td>0</td>\n",
              "      <td>23:00</td>\n",
              "      <td>06:00</td>\n",
              "      <td>Bar/Pub</td>\n",
              "      <td>1.45</td>\n",
              "      <td>4.140</td>\n",
              "      <td>13.0</td>\n",
              "      <td>38363.039529</td>\n",
              "      <td>29.0</td>\n",
              "    </tr>\n",
              "    <tr>\n",
              "      <th>1</th>\n",
              "      <td>29.656813</td>\n",
              "      <td>Bilbao</td>\n",
              "      <td>71.1614</td>\n",
              "      <td>True</td>\n",
              "      <td>True</td>\n",
              "      <td>43.255756</td>\n",
              "      <td>-2.939133</td>\n",
              "      <td>2019-04-15</td>\n",
              "      <td>3.0</td>\n",
              "      <td>43.262941</td>\n",
              "      <td>...</td>\n",
              "      <td>10</td>\n",
              "      <td>0</td>\n",
              "      <td>13:00</td>\n",
              "      <td>01:00</td>\n",
              "      <td>Restaurant</td>\n",
              "      <td>0.84</td>\n",
              "      <td>3.916</td>\n",
              "      <td>22.0</td>\n",
              "      <td>26352.777120</td>\n",
              "      <td>36.0</td>\n",
              "    </tr>\n",
              "    <tr>\n",
              "      <th>2</th>\n",
              "      <td>31.277988</td>\n",
              "      <td>Alicante</td>\n",
              "      <td>75.7135</td>\n",
              "      <td>True</td>\n",
              "      <td>False</td>\n",
              "      <td>38.354208</td>\n",
              "      <td>-0.505718</td>\n",
              "      <td>2019-04-17</td>\n",
              "      <td>4.0</td>\n",
              "      <td>38.300530</td>\n",
              "      <td>...</td>\n",
              "      <td>15</td>\n",
              "      <td>0</td>\n",
              "      <td>11:00</td>\n",
              "      <td>23:00</td>\n",
              "      <td>Restaurant</td>\n",
              "      <td>10.48</td>\n",
              "      <td>3.803</td>\n",
              "      <td>33.0</td>\n",
              "      <td>27910.264616</td>\n",
              "      <td>26.0</td>\n",
              "    </tr>\n",
              "    <tr>\n",
              "      <th>3</th>\n",
              "      <td>38.071841</td>\n",
              "      <td>Madrid</td>\n",
              "      <td>215.2493</td>\n",
              "      <td>True</td>\n",
              "      <td>True</td>\n",
              "      <td>40.463496</td>\n",
              "      <td>-3.635538</td>\n",
              "      <td>2019-04-05</td>\n",
              "      <td>5.0</td>\n",
              "      <td>40.453918</td>\n",
              "      <td>...</td>\n",
              "      <td>29</td>\n",
              "      <td>1</td>\n",
              "      <td>06:00</td>\n",
              "      <td>23:00</td>\n",
              "      <td>Hotel</td>\n",
              "      <td>1.94</td>\n",
              "      <td>3.958</td>\n",
              "      <td>47.0</td>\n",
              "      <td>33478.441029</td>\n",
              "      <td>31.0</td>\n",
              "    </tr>\n",
              "    <tr>\n",
              "      <th>4</th>\n",
              "      <td>38.649910</td>\n",
              "      <td>Caceres</td>\n",
              "      <td>252.1306</td>\n",
              "      <td>False</td>\n",
              "      <td>False</td>\n",
              "      <td>39.472037</td>\n",
              "      <td>-6.371697</td>\n",
              "      <td>2018-06-15</td>\n",
              "      <td>6.0</td>\n",
              "      <td>39.474834</td>\n",
              "      <td>...</td>\n",
              "      <td>8</td>\n",
              "      <td>1</td>\n",
              "      <td>06:00</td>\n",
              "      <td>23:00</td>\n",
              "      <td>Hotel</td>\n",
              "      <td>0.77</td>\n",
              "      <td>4.932</td>\n",
              "      <td>46.0</td>\n",
              "      <td>33487.927742</td>\n",
              "      <td>29.0</td>\n",
              "    </tr>\n",
              "    <tr>\n",
              "      <th>...</th>\n",
              "      <td>...</td>\n",
              "      <td>...</td>\n",
              "      <td>...</td>\n",
              "      <td>...</td>\n",
              "      <td>...</td>\n",
              "      <td>...</td>\n",
              "      <td>...</td>\n",
              "      <td>...</td>\n",
              "      <td>...</td>\n",
              "      <td>...</td>\n",
              "      <td>...</td>\n",
              "      <td>...</td>\n",
              "      <td>...</td>\n",
              "      <td>...</td>\n",
              "      <td>...</td>\n",
              "      <td>...</td>\n",
              "      <td>...</td>\n",
              "      <td>...</td>\n",
              "      <td>...</td>\n",
              "      <td>...</td>\n",
              "      <td>...</td>\n",
              "    </tr>\n",
              "    <tr>\n",
              "      <th>9629</th>\n",
              "      <td>35.362156</td>\n",
              "      <td>Madrid</td>\n",
              "      <td>45.0565</td>\n",
              "      <td>False</td>\n",
              "      <td>True</td>\n",
              "      <td>40.399515</td>\n",
              "      <td>-3.696936</td>\n",
              "      <td>2018-09-01</td>\n",
              "      <td>9994.0</td>\n",
              "      <td>40.403571</td>\n",
              "      <td>...</td>\n",
              "      <td>23</td>\n",
              "      <td>0</td>\n",
              "      <td>13:00</td>\n",
              "      <td>01:00</td>\n",
              "      <td>Restaurant</td>\n",
              "      <td>0.45</td>\n",
              "      <td>4.966</td>\n",
              "      <td>60.0</td>\n",
              "      <td>30884.234842</td>\n",
              "      <td>1.0</td>\n",
              "    </tr>\n",
              "    <tr>\n",
              "      <th>9630</th>\n",
              "      <td>33.621825</td>\n",
              "      <td>Madrid</td>\n",
              "      <td>287.1539</td>\n",
              "      <td>True</td>\n",
              "      <td>False</td>\n",
              "      <td>40.398334</td>\n",
              "      <td>-3.697031</td>\n",
              "      <td>2018-10-06</td>\n",
              "      <td>9995.0</td>\n",
              "      <td>40.403571</td>\n",
              "      <td>...</td>\n",
              "      <td>23</td>\n",
              "      <td>1</td>\n",
              "      <td>06:00</td>\n",
              "      <td>23:00</td>\n",
              "      <td>Hotel</td>\n",
              "      <td>0.58</td>\n",
              "      <td>3.730</td>\n",
              "      <td>92.0</td>\n",
              "      <td>35455.681692</td>\n",
              "      <td>28.0</td>\n",
              "    </tr>\n",
              "    <tr>\n",
              "      <th>9631</th>\n",
              "      <td>35.763547</td>\n",
              "      <td>Bilbao</td>\n",
              "      <td>355.0638</td>\n",
              "      <td>True</td>\n",
              "      <td>False</td>\n",
              "      <td>43.243966</td>\n",
              "      <td>-2.896762</td>\n",
              "      <td>2018-12-06</td>\n",
              "      <td>9996.0</td>\n",
              "      <td>43.245405</td>\n",
              "      <td>...</td>\n",
              "      <td>5</td>\n",
              "      <td>2</td>\n",
              "      <td>00:00</td>\n",
              "      <td>00:00</td>\n",
              "      <td>Hotel</td>\n",
              "      <td>1.10</td>\n",
              "      <td>4.485</td>\n",
              "      <td>37.0</td>\n",
              "      <td>32715.667729</td>\n",
              "      <td>32.0</td>\n",
              "    </tr>\n",
              "    <tr>\n",
              "      <th>9632</th>\n",
              "      <td>25.767590</td>\n",
              "      <td>Barcelona</td>\n",
              "      <td>377.1740</td>\n",
              "      <td>True</td>\n",
              "      <td>False</td>\n",
              "      <td>41.416983</td>\n",
              "      <td>2.197787</td>\n",
              "      <td>2020-07-03</td>\n",
              "      <td>9997.0</td>\n",
              "      <td>41.426438</td>\n",
              "      <td>...</td>\n",
              "      <td>3</td>\n",
              "      <td>2</td>\n",
              "      <td>09:00</td>\n",
              "      <td>21:00</td>\n",
              "      <td>Hotel</td>\n",
              "      <td>2.05</td>\n",
              "      <td>4.043</td>\n",
              "      <td>22.0</td>\n",
              "      <td>31840.805761</td>\n",
              "      <td>33.0</td>\n",
              "    </tr>\n",
              "    <tr>\n",
              "      <th>9633</th>\n",
              "      <td>36.160989</td>\n",
              "      <td>Alicante</td>\n",
              "      <td>34.7446</td>\n",
              "      <td>True</td>\n",
              "      <td>True</td>\n",
              "      <td>38.391301</td>\n",
              "      <td>-0.479109</td>\n",
              "      <td>2019-08-16</td>\n",
              "      <td>9999.0</td>\n",
              "      <td>38.373219</td>\n",
              "      <td>...</td>\n",
              "      <td>16</td>\n",
              "      <td>0</td>\n",
              "      <td>11:00</td>\n",
              "      <td>23:00</td>\n",
              "      <td>Restaurant</td>\n",
              "      <td>2.07</td>\n",
              "      <td>4.092</td>\n",
              "      <td>24.0</td>\n",
              "      <td>27336.162153</td>\n",
              "      <td>31.0</td>\n",
              "    </tr>\n",
              "  </tbody>\n",
              "</table>\n",
              "<p>9634 rows × 21 columns</p>\n",
              "</div>\n",
              "    <div class=\"colab-df-buttons\">\n",
              "\n",
              "  <div class=\"colab-df-container\">\n",
              "    <button class=\"colab-df-convert\" onclick=\"convertToInteractive('df-a4cd2495-5179-4e90-be21-7dc27dbf87c4')\"\n",
              "            title=\"Convert this dataframe to an interactive table.\"\n",
              "            style=\"display:none;\">\n",
              "\n",
              "  <svg xmlns=\"http://www.w3.org/2000/svg\" height=\"24px\" viewBox=\"0 -960 960 960\">\n",
              "    <path d=\"M120-120v-720h720v720H120Zm60-500h600v-160H180v160Zm220 220h160v-160H400v160Zm0 220h160v-160H400v160ZM180-400h160v-160H180v160Zm440 0h160v-160H620v160ZM180-180h160v-160H180v160Zm440 0h160v-160H620v160Z\"/>\n",
              "  </svg>\n",
              "    </button>\n",
              "\n",
              "  <style>\n",
              "    .colab-df-container {\n",
              "      display:flex;\n",
              "      gap: 12px;\n",
              "    }\n",
              "\n",
              "    .colab-df-convert {\n",
              "      background-color: #E8F0FE;\n",
              "      border: none;\n",
              "      border-radius: 50%;\n",
              "      cursor: pointer;\n",
              "      display: none;\n",
              "      fill: #1967D2;\n",
              "      height: 32px;\n",
              "      padding: 0 0 0 0;\n",
              "      width: 32px;\n",
              "    }\n",
              "\n",
              "    .colab-df-convert:hover {\n",
              "      background-color: #E2EBFA;\n",
              "      box-shadow: 0px 1px 2px rgba(60, 64, 67, 0.3), 0px 1px 3px 1px rgba(60, 64, 67, 0.15);\n",
              "      fill: #174EA6;\n",
              "    }\n",
              "\n",
              "    .colab-df-buttons div {\n",
              "      margin-bottom: 4px;\n",
              "    }\n",
              "\n",
              "    [theme=dark] .colab-df-convert {\n",
              "      background-color: #3B4455;\n",
              "      fill: #D2E3FC;\n",
              "    }\n",
              "\n",
              "    [theme=dark] .colab-df-convert:hover {\n",
              "      background-color: #434B5C;\n",
              "      box-shadow: 0px 1px 3px 1px rgba(0, 0, 0, 0.15);\n",
              "      filter: drop-shadow(0px 1px 2px rgba(0, 0, 0, 0.3));\n",
              "      fill: #FFFFFF;\n",
              "    }\n",
              "  </style>\n",
              "\n",
              "    <script>\n",
              "      const buttonEl =\n",
              "        document.querySelector('#df-a4cd2495-5179-4e90-be21-7dc27dbf87c4 button.colab-df-convert');\n",
              "      buttonEl.style.display =\n",
              "        google.colab.kernel.accessAllowed ? 'block' : 'none';\n",
              "\n",
              "      async function convertToInteractive(key) {\n",
              "        const element = document.querySelector('#df-a4cd2495-5179-4e90-be21-7dc27dbf87c4');\n",
              "        const dataTable =\n",
              "          await google.colab.kernel.invokeFunction('convertToInteractive',\n",
              "                                                    [key], {});\n",
              "        if (!dataTable) return;\n",
              "\n",
              "        const docLinkHtml = 'Like what you see? Visit the ' +\n",
              "          '<a target=\"_blank\" href=https://colab.research.google.com/notebooks/data_table.ipynb>data table notebook</a>'\n",
              "          + ' to learn more about interactive tables.';\n",
              "        element.innerHTML = '';\n",
              "        dataTable['output_type'] = 'display_data';\n",
              "        await google.colab.output.renderOutput(dataTable, element);\n",
              "        const docLink = document.createElement('div');\n",
              "        docLink.innerHTML = docLinkHtml;\n",
              "        element.appendChild(docLink);\n",
              "      }\n",
              "    </script>\n",
              "  </div>\n",
              "\n",
              "\n",
              "<div id=\"df-edaf069b-fa18-4597-a60f-4c6827f360b5\">\n",
              "  <button class=\"colab-df-quickchart\" onclick=\"quickchart('df-edaf069b-fa18-4597-a60f-4c6827f360b5')\"\n",
              "            title=\"Suggest charts\"\n",
              "            style=\"display:none;\">\n",
              "\n",
              "<svg xmlns=\"http://www.w3.org/2000/svg\" height=\"24px\"viewBox=\"0 0 24 24\"\n",
              "     width=\"24px\">\n",
              "    <g>\n",
              "        <path d=\"M19 3H5c-1.1 0-2 .9-2 2v14c0 1.1.9 2 2 2h14c1.1 0 2-.9 2-2V5c0-1.1-.9-2-2-2zM9 17H7v-7h2v7zm4 0h-2V7h2v10zm4 0h-2v-4h2v4z\"/>\n",
              "    </g>\n",
              "</svg>\n",
              "  </button>\n",
              "\n",
              "<style>\n",
              "  .colab-df-quickchart {\n",
              "      --bg-color: #E8F0FE;\n",
              "      --fill-color: #1967D2;\n",
              "      --hover-bg-color: #E2EBFA;\n",
              "      --hover-fill-color: #174EA6;\n",
              "      --disabled-fill-color: #AAA;\n",
              "      --disabled-bg-color: #DDD;\n",
              "  }\n",
              "\n",
              "  [theme=dark] .colab-df-quickchart {\n",
              "      --bg-color: #3B4455;\n",
              "      --fill-color: #D2E3FC;\n",
              "      --hover-bg-color: #434B5C;\n",
              "      --hover-fill-color: #FFFFFF;\n",
              "      --disabled-bg-color: #3B4455;\n",
              "      --disabled-fill-color: #666;\n",
              "  }\n",
              "\n",
              "  .colab-df-quickchart {\n",
              "    background-color: var(--bg-color);\n",
              "    border: none;\n",
              "    border-radius: 50%;\n",
              "    cursor: pointer;\n",
              "    display: none;\n",
              "    fill: var(--fill-color);\n",
              "    height: 32px;\n",
              "    padding: 0;\n",
              "    width: 32px;\n",
              "  }\n",
              "\n",
              "  .colab-df-quickchart:hover {\n",
              "    background-color: var(--hover-bg-color);\n",
              "    box-shadow: 0 1px 2px rgba(60, 64, 67, 0.3), 0 1px 3px 1px rgba(60, 64, 67, 0.15);\n",
              "    fill: var(--button-hover-fill-color);\n",
              "  }\n",
              "\n",
              "  .colab-df-quickchart-complete:disabled,\n",
              "  .colab-df-quickchart-complete:disabled:hover {\n",
              "    background-color: var(--disabled-bg-color);\n",
              "    fill: var(--disabled-fill-color);\n",
              "    box-shadow: none;\n",
              "  }\n",
              "\n",
              "  .colab-df-spinner {\n",
              "    border: 2px solid var(--fill-color);\n",
              "    border-color: transparent;\n",
              "    border-bottom-color: var(--fill-color);\n",
              "    animation:\n",
              "      spin 1s steps(1) infinite;\n",
              "  }\n",
              "\n",
              "  @keyframes spin {\n",
              "    0% {\n",
              "      border-color: transparent;\n",
              "      border-bottom-color: var(--fill-color);\n",
              "      border-left-color: var(--fill-color);\n",
              "    }\n",
              "    20% {\n",
              "      border-color: transparent;\n",
              "      border-left-color: var(--fill-color);\n",
              "      border-top-color: var(--fill-color);\n",
              "    }\n",
              "    30% {\n",
              "      border-color: transparent;\n",
              "      border-left-color: var(--fill-color);\n",
              "      border-top-color: var(--fill-color);\n",
              "      border-right-color: var(--fill-color);\n",
              "    }\n",
              "    40% {\n",
              "      border-color: transparent;\n",
              "      border-right-color: var(--fill-color);\n",
              "      border-top-color: var(--fill-color);\n",
              "    }\n",
              "    60% {\n",
              "      border-color: transparent;\n",
              "      border-right-color: var(--fill-color);\n",
              "    }\n",
              "    80% {\n",
              "      border-color: transparent;\n",
              "      border-right-color: var(--fill-color);\n",
              "      border-bottom-color: var(--fill-color);\n",
              "    }\n",
              "    90% {\n",
              "      border-color: transparent;\n",
              "      border-bottom-color: var(--fill-color);\n",
              "    }\n",
              "  }\n",
              "</style>\n",
              "\n",
              "  <script>\n",
              "    async function quickchart(key) {\n",
              "      const quickchartButtonEl =\n",
              "        document.querySelector('#' + key + ' button');\n",
              "      quickchartButtonEl.disabled = true;  // To prevent multiple clicks.\n",
              "      quickchartButtonEl.classList.add('colab-df-spinner');\n",
              "      try {\n",
              "        const charts = await google.colab.kernel.invokeFunction(\n",
              "            'suggestCharts', [key], {});\n",
              "      } catch (error) {\n",
              "        console.error('Error during call to suggestCharts:', error);\n",
              "      }\n",
              "      quickchartButtonEl.classList.remove('colab-df-spinner');\n",
              "      quickchartButtonEl.classList.add('colab-df-quickchart-complete');\n",
              "    }\n",
              "    (() => {\n",
              "      let quickchartButtonEl =\n",
              "        document.querySelector('#df-edaf069b-fa18-4597-a60f-4c6827f360b5 button');\n",
              "      quickchartButtonEl.style.display =\n",
              "        google.colab.kernel.accessAllowed ? 'block' : 'none';\n",
              "    })();\n",
              "  </script>\n",
              "</div>\n",
              "\n",
              "  <div id=\"id_c8a6a54e-498e-4aa9-835e-0db85db55706\">\n",
              "    <style>\n",
              "      .colab-df-generate {\n",
              "        background-color: #E8F0FE;\n",
              "        border: none;\n",
              "        border-radius: 50%;\n",
              "        cursor: pointer;\n",
              "        display: none;\n",
              "        fill: #1967D2;\n",
              "        height: 32px;\n",
              "        padding: 0 0 0 0;\n",
              "        width: 32px;\n",
              "      }\n",
              "\n",
              "      .colab-df-generate:hover {\n",
              "        background-color: #E2EBFA;\n",
              "        box-shadow: 0px 1px 2px rgba(60, 64, 67, 0.3), 0px 1px 3px 1px rgba(60, 64, 67, 0.15);\n",
              "        fill: #174EA6;\n",
              "      }\n",
              "\n",
              "      [theme=dark] .colab-df-generate {\n",
              "        background-color: #3B4455;\n",
              "        fill: #D2E3FC;\n",
              "      }\n",
              "\n",
              "      [theme=dark] .colab-df-generate:hover {\n",
              "        background-color: #434B5C;\n",
              "        box-shadow: 0px 1px 3px 1px rgba(0, 0, 0, 0.15);\n",
              "        filter: drop-shadow(0px 1px 2px rgba(0, 0, 0, 0.3));\n",
              "        fill: #FFFFFF;\n",
              "      }\n",
              "    </style>\n",
              "    <button class=\"colab-df-generate\" onclick=\"generateWithVariable('info_eco_merged')\"\n",
              "            title=\"Generate code using this dataframe.\"\n",
              "            style=\"display:none;\">\n",
              "\n",
              "  <svg xmlns=\"http://www.w3.org/2000/svg\" height=\"24px\"viewBox=\"0 0 24 24\"\n",
              "       width=\"24px\">\n",
              "    <path d=\"M7,19H8.4L18.45,9,17,7.55,7,17.6ZM5,21V16.75L18.45,3.32a2,2,0,0,1,2.83,0l1.4,1.43a1.91,1.91,0,0,1,.58,1.4,1.91,1.91,0,0,1-.58,1.4L9.25,21ZM18.45,9,17,7.55Zm-12,3A5.31,5.31,0,0,0,4.9,8.1,5.31,5.31,0,0,0,1,6.5,5.31,5.31,0,0,0,4.9,4.9,5.31,5.31,0,0,0,6.5,1,5.31,5.31,0,0,0,8.1,4.9,5.31,5.31,0,0,0,12,6.5,5.46,5.46,0,0,0,6.5,12Z\"/>\n",
              "  </svg>\n",
              "    </button>\n",
              "    <script>\n",
              "      (() => {\n",
              "      const buttonEl =\n",
              "        document.querySelector('#id_c8a6a54e-498e-4aa9-835e-0db85db55706 button.colab-df-generate');\n",
              "      buttonEl.style.display =\n",
              "        google.colab.kernel.accessAllowed ? 'block' : 'none';\n",
              "\n",
              "      buttonEl.onclick = () => {\n",
              "        google.colab.notebook.generateWithVariable('info_eco_merged');\n",
              "      }\n",
              "      })();\n",
              "    </script>\n",
              "  </div>\n",
              "\n",
              "    </div>\n",
              "  </div>\n"
            ],
            "application/vnd.google.colaboratory.intrinsic+json": {
              "type": "dataframe",
              "variable_name": "info_eco_merged"
            }
          },
          "metadata": {},
          "execution_count": 6
        }
      ],
      "source": [
        "info_eco_merged"
      ]
    },
    {
      "cell_type": "code",
      "execution_count": null,
      "id": "c68fee60",
      "metadata": {
        "colab": {
          "base_uri": "https://localhost:8080/"
        },
        "id": "c68fee60",
        "outputId": "73cf2537-1d49-427f-d576-8e5d8bc0fe68"
      },
      "outputs": [
        {
          "output_type": "stream",
          "name": "stdout",
          "text": [
            "(9651, 17)\n",
            "(9643, 5)\n",
            "(9634, 21)\n"
          ]
        }
      ],
      "source": [
        "print(customer_info_cleaned.shape)\n",
        "print(customer_economics_cleaned.shape)\n",
        "print(info_eco_merged.shape)"
      ]
    },
    {
      "cell_type": "markdown",
      "id": "9926b952",
      "metadata": {
        "id": "9926b952"
      },
      "source": [
        "### Save the merge of customer_info_cleaned and customer_economics_cleaned"
      ]
    },
    {
      "cell_type": "code",
      "execution_count": null,
      "id": "f12f6440",
      "metadata": {
        "id": "f12f6440"
      },
      "outputs": [],
      "source": [
        "info_eco_merged.to_csv(output_dir + \"/info_eco_merged.csv\", index=False)"
      ]
    },
    {
      "cell_type": "markdown",
      "id": "6b44a7b3",
      "metadata": {
        "id": "6b44a7b3"
      },
      "source": [
        "## Merge info_eco_merged with socio_cleaned"
      ]
    },
    {
      "cell_type": "code",
      "execution_count": null,
      "id": "acb956fb",
      "metadata": {
        "id": "acb956fb"
      },
      "outputs": [],
      "source": [
        "#Upload merged dataset: info_eco_merged\n",
        "\n",
        "info_eco_merged = pd.read_csv(data_path + '/info_eco_merged.csv')\n",
        "\n",
        "info_eco_merged.head()"
      ]
    },
    {
      "cell_type": "code",
      "execution_count": null,
      "id": "f8e830b9",
      "metadata": {
        "id": "f8e830b9"
      },
      "outputs": [],
      "source": [
        "#Upload third dataset: socio_cleaned\n",
        "\n",
        "socio_cleaned = pd.read_csv(data_path + '/socio_cleaned.csv')\n",
        "\n",
        "socio_cleaned.head()"
      ]
    },
    {
      "cell_type": "code",
      "execution_count": null,
      "id": "297be084",
      "metadata": {
        "id": "297be084"
      },
      "outputs": [],
      "source": [
        "#To join the dataset we need to remove non-printable characters\n",
        "#We use a left join on City to match all the cities on the info_eco_merged dataset\n",
        "\n",
        "non_printable2 = \"info_eco_socio_merged = pd.merge(info_eco_merged, socio_cleaned, on='city', how='left')\"\n",
        "\n",
        "cleaned_line2 = re.sub(r'[^\\x00-\\x7F]+', ' ', non_printable2)"
      ]
    },
    {
      "cell_type": "code",
      "execution_count": null,
      "id": "20f82b2f",
      "metadata": {
        "id": "20f82b2f"
      },
      "outputs": [],
      "source": [
        "info_eco_socio_merged = pd.merge(info_eco_merged, socio_cleaned, on='city', how='left')"
      ]
    },
    {
      "cell_type": "code",
      "execution_count": null,
      "id": "654d8c43",
      "metadata": {
        "id": "654d8c43"
      },
      "outputs": [],
      "source": [
        "info_eco_socio_merged.head()"
      ]
    },
    {
      "cell_type": "code",
      "execution_count": null,
      "id": "fbd0cb95",
      "metadata": {
        "id": "fbd0cb95"
      },
      "outputs": [],
      "source": [
        "print(info_eco_merged.shape)\n",
        "print(socio_cleaned.shape)\n",
        "print(info_eco_socio_merged.shape)"
      ]
    },
    {
      "cell_type": "markdown",
      "id": "f8695a6b",
      "metadata": {
        "id": "f8695a6b"
      },
      "source": [
        "## Cleaning merged dataset"
      ]
    },
    {
      "cell_type": "markdown",
      "id": "405213a7",
      "metadata": {
        "id": "405213a7"
      },
      "source": [
        "#### Sales amount"
      ]
    },
    {
      "cell_type": "code",
      "execution_count": null,
      "id": "5cd15de4",
      "metadata": {
        "id": "5cd15de4"
      },
      "outputs": [],
      "source": [
        "info_eco_socio_merged.sort_values(by='sales_amount', ascending=False)\n",
        "#looking at the further details of ID = 3658 and ID = 5773 such as date_opening, store_size and number_of_employees, it looks\n",
        "# impossible to have that huge sales_amount so we would delete so we consider them huge outliers and will delete these"
      ]
    },
    {
      "cell_type": "code",
      "execution_count": null,
      "id": "bd6c4211",
      "metadata": {
        "id": "bd6c4211"
      },
      "outputs": [],
      "source": [
        "info_eco_socio_merged.drop(info_eco_socio_merged[info_eco_socio_merged['id'] == 3659].index, inplace=True)\n",
        "info_eco_socio_merged.drop(info_eco_socio_merged[info_eco_socio_merged['id'] == 5773].index, inplace=True)"
      ]
    },
    {
      "cell_type": "markdown",
      "id": "f55eeb57",
      "metadata": {
        "id": "f55eeb57"
      },
      "source": [
        "#### Number of employees"
      ]
    },
    {
      "cell_type": "code",
      "execution_count": null,
      "id": "402fc4a8",
      "metadata": {
        "id": "402fc4a8"
      },
      "outputs": [],
      "source": [
        "info_eco_socio_merged.sort_values(by='number_of_employees', ascending=True)\n",
        "#2 stores have number_of_employees as zero\n",
        "#1 store has 1 employee, considering this an outlier as the other stores have number_of_employees between 20 and 42\n",
        "#Assuming this is wrong we put the average of the number_of_employees based on their store size\n",
        "#NA if number_of_employees = 0 or 1"
      ]
    },
    {
      "cell_type": "code",
      "execution_count": null,
      "id": "9dc09a98",
      "metadata": {
        "id": "9dc09a98"
      },
      "outputs": [],
      "source": [
        "info_eco_socio_merged['number_of_employees'] = info_eco_socio_merged['number_of_employees'].replace(0, np.nan)\n",
        "info_eco_socio_merged['number_of_employees'] = info_eco_socio_merged['number_of_employees'].replace(1, np.nan)"
      ]
    },
    {
      "cell_type": "code",
      "execution_count": null,
      "id": "5cbb4a76",
      "metadata": {
        "id": "5cbb4a76"
      },
      "outputs": [],
      "source": [
        "info_eco_socio_merged[info_eco_socio_merged['number_of_employees'].isna()]"
      ]
    },
    {
      "cell_type": "code",
      "execution_count": null,
      "id": "12ba56e9",
      "metadata": {
        "id": "12ba56e9"
      },
      "outputs": [],
      "source": [
        "#Fill the NA's with the average number_of_employees grouped by store_size_category\n",
        "\n",
        "avg_employees_by_category = info_eco_socio_merged.groupby('store_size_category')['number_of_employees'].mean()\n",
        "\n",
        "def fill_na_with_avg_employees(row):\n",
        "    if pd.isna(row['number_of_employees']):\n",
        "        return avg_employees_by_category[row['store_size_category']]\n",
        "    else:\n",
        "        return row['number_of_employees']\n",
        "\n",
        "info_eco_socio_merged['number_of_employees'] = info_eco_socio_merged.apply(fill_na_with_avg_employees, axis=1)\n",
        "\n",
        "avg_employees_by_category"
      ]
    },
    {
      "cell_type": "markdown",
      "id": "c924c085",
      "metadata": {
        "id": "c924c085"
      },
      "source": [
        "## Creating extra features for EDA"
      ]
    },
    {
      "cell_type": "markdown",
      "id": "32678134",
      "metadata": {
        "id": "32678134"
      },
      "source": [
        "#### Days active"
      ]
    },
    {
      "cell_type": "markdown",
      "source": [
        "To have a consistent reference point for our analysis, we considered the end of 2023 to calculate the days active of each customer."
      ],
      "metadata": {
        "id": "GoJmfBlsqHLq"
      },
      "id": "GoJmfBlsqHLq"
    },
    {
      "cell_type": "code",
      "execution_count": null,
      "id": "3cb5e8dc",
      "metadata": {
        "id": "3cb5e8dc"
      },
      "outputs": [],
      "source": [
        "info_eco_socio_merged['date_opening'] = pd.to_datetime(info_eco_socio_merged['date_opening'])\n",
        "current_date = pd.to_datetime('31/12/2023', format='%d/%m/%Y') #Set the reference date to the end of 2023\n",
        "info_eco_socio_merged['days_active'] = (current_date - info_eco_socio_merged['date_opening']).dt.days\n",
        "\n",
        "info_eco_socio_merged.head()\n",
        "\n"
      ]
    },
    {
      "cell_type": "code",
      "execution_count": null,
      "id": "79515b89",
      "metadata": {
        "id": "79515b89"
      },
      "outputs": [],
      "source": [
        "info_eco_socio_merged.dtypes"
      ]
    },
    {
      "cell_type": "markdown",
      "id": "cf6e2cba",
      "metadata": {
        "id": "cf6e2cba"
      },
      "source": [
        "#### Open duration hours"
      ]
    },
    {
      "cell_type": "code",
      "execution_count": null,
      "id": "8fcdef71",
      "metadata": {
        "id": "8fcdef71"
      },
      "outputs": [],
      "source": [
        "info_eco_socio_merged['opening_hour'] = pd.to_datetime(info_eco_socio_merged['opening_hour'], format='%H:%M').dt.time\n",
        "info_eco_socio_merged['closing_hour'] = pd.to_datetime(info_eco_socio_merged['closing_hour'], format='%H:%M').dt.time\n"
      ]
    },
    {
      "cell_type": "code",
      "execution_count": null,
      "id": "cb2aa8bb",
      "metadata": {
        "id": "cb2aa8bb"
      },
      "outputs": [],
      "source": [
        " #Calculate the amount of hours a store is open each day by subtracting the opening hour from the closing hour, taking into account that some stores may operate past midnight\n",
        "def calculate_open_duration(row):\n",
        "    opening = datetime.combine(datetime.min, row['opening_hour'])\n",
        "    closing = datetime.combine(datetime.min, row['closing_hour'])\n",
        "\n",
        "    # Handle overnight times\n",
        "    if closing <= opening:\n",
        "        closing += timedelta(days=1)\n",
        "\n",
        "    return (closing - opening).total_seconds() / 3600\n",
        "\n",
        "info_eco_socio_merged['open_duration_hours'] = info_eco_socio_merged.apply(calculate_open_duration, axis=1)\n",
        "info_eco_socio_merged"
      ]
    },
    {
      "cell_type": "code",
      "execution_count": null,
      "id": "e184374b",
      "metadata": {
        "id": "e184374b"
      },
      "outputs": [],
      "source": [
        "info_eco_socio_merged['opening_hour'] = pd.to_datetime(info_eco_socio_merged['opening_hour'], format='%H:%M:%S').dt.hour\n",
        "info_eco_socio_merged['closing_hour'] = pd.to_datetime(info_eco_socio_merged['closing_hour'], format='%H:%M:%S').dt.hour"
      ]
    },
    {
      "cell_type": "markdown",
      "id": "f47a15ed",
      "metadata": {
        "id": "f47a15ed"
      },
      "source": [
        "## Types checking"
      ]
    },
    {
      "cell_type": "code",
      "execution_count": null,
      "id": "eadd178e",
      "metadata": {
        "id": "eadd178e"
      },
      "outputs": [],
      "source": [
        "info_eco_socio_merged.dtypes"
      ]
    },
    {
      "cell_type": "code",
      "execution_count": null,
      "id": "1c8179bf",
      "metadata": {
        "id": "1c8179bf"
      },
      "outputs": [],
      "source": [
        "info_eco_socio_merged['id'] = info_eco_socio_merged['id'].astype(str)\n",
        "info_eco_socio_merged['sales_representative_id'] = info_eco_socio_merged['sales_representative_id'].astype(str)"
      ]
    },
    {
      "cell_type": "code",
      "execution_count": null,
      "id": "367e6f5c",
      "metadata": {
        "id": "367e6f5c"
      },
      "outputs": [],
      "source": [
        "#Tableau version for visualisation in maps\n",
        "info_eco_socio_merged.to_csv(output_dir + \"/merged_cleaned_tableau.csv\", index=False)"
      ]
    },
    {
      "cell_type": "markdown",
      "id": "2c2c4192",
      "metadata": {
        "id": "2c2c4192"
      },
      "source": [
        "### Save the merge of info_eco_merged and socio_cleaned"
      ]
    },
    {
      "cell_type": "code",
      "execution_count": null,
      "id": "1b11da7d",
      "metadata": {
        "id": "1b11da7d"
      },
      "outputs": [],
      "source": [
        "eda_cleaned = info_eco_socio_merged"
      ]
    },
    {
      "cell_type": "code",
      "execution_count": null,
      "id": "e132a748",
      "metadata": {
        "id": "e132a748"
      },
      "outputs": [],
      "source": [
        "eda_cleaned.isna().sum()"
      ]
    },
    {
      "cell_type": "code",
      "execution_count": null,
      "id": "feb300b3",
      "metadata": {
        "id": "feb300b3"
      },
      "outputs": [],
      "source": [
        "eda_cleaned.to_csv(output_dir + \"/merged_cleaned.csv\", index=False)"
      ]
    }
  ],
  "metadata": {
    "kernelspec": {
      "display_name": "Python 3 (ipykernel)",
      "language": "python",
      "name": "python3"
    },
    "language_info": {
      "codemirror_mode": {
        "name": "ipython",
        "version": 3
      },
      "file_extension": ".py",
      "mimetype": "text/x-python",
      "name": "python",
      "nbconvert_exporter": "python",
      "pygments_lexer": "ipython3",
      "version": "3.11.4"
    },
    "colab": {
      "provenance": [],
      "include_colab_link": true
    }
  },
  "nbformat": 4,
  "nbformat_minor": 5
}